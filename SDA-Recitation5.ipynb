{
 "cells": [
  {
   "cell_type": "code",
   "execution_count": 74,
   "metadata": {},
   "outputs": [],
   "source": [
    "import numpy as np\n",
    "import scipy.signal as sig\n",
    "import matplotlib.pyplot as plt\n",
    "\n",
    "%matplotlib widget\n",
    "# %matplotlib inline\n",
    "\n",
    "import ipywidgets as widgets\n",
    "\n",
    "%config InlineBackend.figure_format = 'retina'"
   ]
  },
  {
   "cell_type": "markdown",
   "metadata": {},
   "source": [
    "### Linear filter model:\n",
    "\n",
    "#### You leaned that we can represent a neuron by a basic model of a linear filter on the stimulus: \n",
    "#### $ r_{est}(t) = r_0 + \\int_{0}^{\\infty}D(\\tau)s(t-\\tau)d\\tau  $\n",
    "#### $ r_{0} $ - baseline firing rate, D - response kernel, $ r_{est}(t) $ - firing rate function, s(t) - stimulus function\n",
    "\n",
    "#### look at the following example and answer these questions:\n",
    "#### 1) Describe in words what the kernel seems to be doing\n",
    "#### 2) How do we calculate the estimate of the rate?\n",
    "#### 3) What changes there are between the stimulus and the estimated rate fucntion?\n",
    "#### 4) What are the differences between the rate estimate and the actual rate function?\n",
    "#### 5) What can we do to correct the rate estimate?\n",
    "#### 6) What causes the differences between the rate function and the rate as calculated from a spike train?\n",
    "\n"
   ]
  },
  {
   "cell_type": "code",
   "execution_count": 75,
   "metadata": {},
   "outputs": [
    {
     "data": {
      "application/vnd.jupyter.widget-view+json": {
       "model_id": "cd07736fd79948b0b69d8b309705aa12",
       "version_major": 2,
       "version_minor": 0
      },
      "text/plain": [
       "Canvas(toolbar=Toolbar(toolitems=[('Home', 'Reset original view', 'home', 'home'), ('Back', 'Back to previous …"
      ]
     },
     "metadata": {},
     "output_type": "display_data"
    }
   ],
   "source": [
    "# generate stimulus:\n",
    "samp = 1000\n",
    "dt = 1/samp\n",
    "stim_length_seconds = 3\n",
    "stim_length = stim_length_seconds*samp #miliseconds\n",
    "window = sig.gaussian(400,80)\n",
    "base_rate = 10\n",
    "\n",
    "stimulus = np.ones(stim_length)+base_rate\n",
    "r = np.linspace(-np.pi*5,np.pi*5,int(stim_length*(2/3)))\n",
    "r2 = np.linspace(-np.pi*20,np.pi*20,stim_length)\n",
    "r3 = np.linspace(-np.pi*12,np.pi*12,int(stim_length*(2/3)))\n",
    "r4 = np.linspace(-np.pi*220,np.pi*220,stim_length)\n",
    "\n",
    "stimulus[int(stim_length*(1/3)):stim_length] += 30*np.sin(r)\n",
    "stimulus += 8*np.sin(r2) + 3*np.sin(r4)\n",
    "stimulus[:int(stim_length*(2/3))] += 15*np.sin(r3)\n",
    "# display stimulus\n",
    "fig, ax = plt.subplots(nrows=5, figsize=(8,8))\n",
    "ax[0].plot(np.arange(0,stim_length_seconds,dt),stimulus)\n",
    "ax[0].set_title('stimulus')\n",
    "ax[0].set_xlabel('time(s)')\n",
    "ax[0].set_ylabel('au')\n",
    "# create kernel\n",
    "kernel = np.arange(5,0,-0.02)\n",
    "kernel = kernel/sum(kernel)\n",
    "# display kernel\n",
    "ax[1].plot(np.flip(kernel))\n",
    "ax[1].set_title('kernel')\n",
    "ax[1].set_xlabel('time(ms)')\n",
    "# calculate rate estimate \n",
    "base_rate = 5\n",
    "rate_estimate = base_rate + np.convolve(stimulus, kernel, 'same')\n",
    "# display rate estimate\n",
    "ax[2].plot(np.arange(0,stim_length_seconds,dt),rate_estimate)\n",
    "ax[2].set_title('rate estimate')\n",
    "ax[2].set_xlabel('time(s)')\n",
    "ax[2].set_ylabel('spikes/s')\n",
    "# get actual rate function\n",
    "noise = np.random.normal(0,2,stim_length)\n",
    "ratefunc = base_rate + np.convolve(stimulus, kernel, 'same') + noise\n",
    "ratefunc[ratefunc<0] =0\n",
    "# display rate function\n",
    "ax[3].plot(np.arange(0,stim_length_seconds,dt),ratefunc)\n",
    "ax[3].set_title('rate function')\n",
    "ax[3].set_xlabel('time(s)')\n",
    "ax[3].set_ylabel('spikes/s')\n",
    "# create spike train based on the rate function\n",
    "spike_train = (np.random.uniform(size=stim_length)<ratefunc/samp).astype(np.int32)\n",
    "for i in range(3):\n",
    "    spike_train = np.vstack((spike_train, (np.random.uniform(size=stim_length)<ratefunc/samp).astype(np.int32) ) )\n",
    "response_summations = np.mean(spike_train, axis=0)\n",
    "window = window/sum(window)/dt\n",
    "rate = np.convolve(response_summations,window,'same')\n",
    "ax[4].plot(np.arange(0,stim_length_seconds,dt),rate)\n",
    "ax[4].set_title('rate calculated from spike train')\n",
    "ax[4].set_xlabel('time(s)')\n",
    "ax[4].set_ylabel('spikes/s')\n",
    "fig.tight_layout()"
   ]
  },
  {
   "cell_type": "code",
   "execution_count": 3,
   "metadata": {},
   "outputs": [
    {
     "ename": "SyntaxError",
     "evalue": "invalid syntax (<ipython-input-3-303c465bd4fa>, line 2)",
     "output_type": "error",
     "traceback": [
      "\u001b[1;36m  File \u001b[1;32m\"<ipython-input-3-303c465bd4fa>\"\u001b[1;36m, line \u001b[1;32m2\u001b[0m\n\u001b[1;33m    spike_times = ### complete\u001b[0m\n\u001b[1;37m                  ^\u001b[0m\n\u001b[1;31mSyntaxError\u001b[0m\u001b[1;31m:\u001b[0m invalid syntax\n"
     ]
    }
   ],
   "source": [
    "def calculate_STA(spike_train, stimulus, STAlength):\n",
    "    spike_times = ### complete\n",
    "    for spike in spike times:\n",
    "        ### complete\n",
    "    STA = ### complete\n",
    "    return STA\n",
    "\n",
    "fig, ax = plt.subplots(figsize = (6,3))\n",
    "STA = calculate_STA(spike_train, stimulus, STAlength=250)\n",
    "ax.plot(STA)\n",
    "\n"
   ]
  },
  {
   "cell_type": "markdown",
   "metadata": {},
   "source": [
    "### Kernel estimation\n",
    "#### The following piece of code estimates the kernel using white noise stimulus\n",
    "#### Answer the following questions:\n",
    "#### 1) What is the sequance of actions done to simulate the kernel?\n",
    "#### 2) Is the estimation good? why?\n",
    "#### 3) What changes between different runs of the same code? why? \n",
    "#### 3) What is this sutuation trying to simulate?\n",
    "#### 4) How can this concept be applied?\n",
    "#### Bonus: find the strange code piece"
   ]
  },
  {
   "cell_type": "code",
   "execution_count": 70,
   "metadata": {},
   "outputs": [
    {
     "name": "stderr",
     "output_type": "stream",
     "text": [
      "<ipython-input-70-d0beecde705a>:15: RuntimeWarning: More than 20 figures have been opened. Figures created through the pyplot interface (`matplotlib.pyplot.figure`) are retained until explicitly closed and may consume too much memory. (To control this warning, see the rcParam `figure.max_open_warning`).\n",
      "  fig, ax = plt.subplots(nrows=2, ncols=2, figsize=(8,5), squeeze=False)\n"
     ]
    },
    {
     "data": {
      "application/vnd.jupyter.widget-view+json": {
       "model_id": "2b189463b7f94f2c866a96ab123a65d5",
       "version_major": 2,
       "version_minor": 0
      },
      "text/plain": [
       "Canvas(toolbar=Toolbar(toolitems=[('Home', 'Reset original view', 'home', 'home'), ('Back', 'Back to previous …"
      ]
     },
     "metadata": {},
     "output_type": "display_data"
    }
   ],
   "source": [
    "def calculate_STA(spike_train, stimulus, STAlength):\n",
    "    STAmat = []\n",
    "    for spike in np.nonzero(spike_train)[0]:\n",
    "        if spike < STAlength:\n",
    "            continue\n",
    "        else:\n",
    "            STAmat.append(stimulus[spike-STAlength:spike])\n",
    "    STAmat = np.array(STAmat)\n",
    "    return STAmat.mean(axis=0)\n",
    "\n",
    "samp = 1000\n",
    "duration = 100 # seconds\n",
    "dt = 1/1000\n",
    "kernel_size = 100\n",
    "fig, ax = plt.subplots(nrows=2, ncols=2, figsize=(8,5), squeeze=False)\n",
    "\n",
    "# create kernel\n",
    "kernel = np.sin(np.linspace(0,np.pi*3,kernel_size))/2\n",
    "# create white noise\n",
    "white_noise = np.random.uniform(-1,1,samp*duration)\n",
    "\n",
    "# calculate the rate function using kernel and white noise\n",
    "rate_func = np.convolve(white_noise, np.flip(kernel),'full')\n",
    "rate_func = rate_func[0:samp*duration] \n",
    "# generate spike train based on the rate function:\n",
    "spike_array = (np.random.uniform(size=samp*duration)<rate_func).astype(np.int32)\n",
    "# calculate spike triggered average\n",
    "STA = calculate_STA(spike_array, white_noise, kernel_size)\n",
    "\n",
    "\n",
    "ax[0,0].plot(kernel)\n",
    "ax[0,0].set_title('original kernel')\n",
    "ax[0,0].set_xlabel('time(ms)')\n",
    "ax[0,1].plot(white_noise[0:1000])\n",
    "ax[0,1].set_title('white noise stimulus')\n",
    "ax[0,1].set_xlabel('time(ms)')\n",
    "ax[1,0].plot(rate_func[0:1000])\n",
    "ax[1,0].set_title('rate function')\n",
    "ax[1,0].set_xlabel('time(ms)')\n",
    "ax[1,1].plot(STA)\n",
    "ax[1,1].set_title('estimated kernel')\n",
    "ax[1,1].set_xlabel('time(ms)')\n",
    "fig.tight_layout()"
   ]
  },
  {
   "cell_type": "code",
   "execution_count": null,
   "metadata": {},
   "outputs": [],
   "source": []
  }
 ],
 "metadata": {
  "kernelspec": {
   "display_name": "Python 3",
   "language": "python",
   "name": "python3"
  },
  "language_info": {
   "codemirror_mode": {
    "name": "ipython",
    "version": 3
   },
   "file_extension": ".py",
   "mimetype": "text/x-python",
   "name": "python",
   "nbconvert_exporter": "python",
   "pygments_lexer": "ipython3",
   "version": "3.8.3"
  }
 },
 "nbformat": 4,
 "nbformat_minor": 4
}
