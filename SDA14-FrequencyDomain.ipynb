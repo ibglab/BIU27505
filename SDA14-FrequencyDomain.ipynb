{
 "cells": [
  {
   "cell_type": "markdown",
   "metadata": {},
   "source": [
    "# SDA - lecture 14 - The frequency domain"
   ]
  },
  {
   "cell_type": "code",
   "execution_count": null,
   "metadata": {},
   "outputs": [],
   "source": [
    "import logging\n",
    "logging.basicConfig(level=logging.INFO, format='%(levelname)s: %(asctime)s: %(message)s')\n",
    "\n",
    "import math\n",
    "import numpy as np\n",
    "import matplotlib.pyplot as plt\n",
    "\n",
    "# Use scipy.fft and not numpy.fft which is slower on real numbers\n",
    "import scipy.fft as sfft\n",
    "\n",
    "%matplotlib inline"
   ]
  },
  {
   "cell_type": "markdown",
   "metadata": {},
   "source": [
    "### Sum of two sine waves (different frequencies)\n",
    "* Note the result when one of the frequemcies is an harmonic of the other"
   ]
  },
  {
   "cell_type": "code",
   "execution_count": null,
   "metadata": {},
   "outputs": [],
   "source": [
    "x = np.arange(0,4,0.001)\n",
    "y = np.zeros((x.shape[0],3))\n",
    "f1, f2 = 4, 2\n",
    "y[:,0] = np.sin(x*math.pi*2*f1)\n",
    "y[:,1] = np.sin(x*math.pi*2*f2)\n",
    "y[:,2] = y[:,0] + y[:,1]\n",
    "fig, ax = plt.subplots(figsize=(20,5), nrows=1, ncols=3)\n",
    "titles = [f'Pure {f1} Hz sine wave', f'Pure {f2} Hz sine wave', 'Sum of the two sine waves']\n",
    "for i in [0,1,2]:\n",
    "    ax[i].plot(x,y[:,i])\n",
    "    ax[i].set_title(titles[i])\n",
    "    ax[i].set_xlabel('Time (s)')"
   ]
  },
  {
   "cell_type": "markdown",
   "metadata": {},
   "source": [
    "### Sum of two sine waves (different phases)\n",
    "* Note that decreased sum amplitude as the phase difference increases"
   ]
  },
  {
   "cell_type": "code",
   "execution_count": null,
   "metadata": {},
   "outputs": [],
   "source": [
    "x = np.arange(0,4,0.001)\n",
    "f = 2\n",
    "phis = [0.1, 0.3, 0.5]\n",
    "fig, ax = plt.subplots(figsize=(12,4*len(phis)), nrows=len(phis), ncols=2)\n",
    "\n",
    "for j, phi in enumerate(phis):\n",
    "    y = np.zeros((x.shape[0],3))\n",
    "    y[:,0] = np.sin(x*f*math.pi*2)\n",
    "    y[:,1] = np.sin((x*f+phi)*math.pi*2)\n",
    "    y[:,2] = y[:,0] + y[:,1]\n",
    "    ax[j,0].plot(x,y[:,0],'b')\n",
    "    ax[j,0].plot(x,y[:,1],'r')\n",
    "    ax[j,0].set_title(f'Phase diff {phi} cycle')\n",
    "    ax[j,0].set_ylim(-2,2)\n",
    "    ax[j,1].plot(x,y[:,2])\n",
    "    ax[j,1].set_title(f'Sum')\n",
    "    ax[j,1].set_ylim(-2,2)"
   ]
  },
  {
   "cell_type": "markdown",
   "metadata": {},
   "source": [
    "### Sampling theory\n",
    "Plot a sine wave sampled at different rates with their corresponding DFT\n",
    "* Note the change when fs < 2*f"
   ]
  },
  {
   "cell_type": "code",
   "execution_count": null,
   "metadata": {},
   "outputs": [],
   "source": [
    "f = 4  # Frequency of the sine wave [Hz]\n",
    "T = 2  # Duration of the sine wave [s]\n",
    "fss = [100, 20, 10, 6] # Sampling frequencies [samples/s]\n",
    "\n",
    "fig, ax = plt.subplots(figsize=(16,12), nrows=4, ncols=2)\n",
    "\n",
    "for i, fs in enumerate(fss):\n",
    "    x = np.arange(0,T,1/fs)\n",
    "    midp = int(x.shape[0] * .5)\n",
    "    y = np.sin(x*f*math.pi*2)\n",
    "    ax[i,0].plot(x,y,'.:')\n",
    "    ax[i,0].set_title(f'fs={fs}Hz f={f}Hz T={T}s')\n",
    "    p = sfft.fft(y)\n",
    "    ax[i,1].step(x[:midp]*fs/T,abs(p[:midp]),where='mid')"
   ]
  },
  {
   "cell_type": "markdown",
   "metadata": {},
   "source": [
    "### DFT - intermediate frequencies\n",
    "\n",
    "Author: Ori Carmi"
   ]
  },
  {
   "cell_type": "code",
   "execution_count": null,
   "metadata": {},
   "outputs": [],
   "source": [
    "N = 64 # number of samples\n",
    "t = np.arange(N) # time vector\n",
    "fc = [15,15.5,16]\n",
    "fig, ax = plt.subplots(figsize=(12,9), nrows=3, ncols=1)\n",
    "for k,i in enumerate(fc):\n",
    "    x1 = np.cos(2*np.pi*i/N*t)\n",
    "    X1 = sfft.fft(x1)\n",
    "    X1 = abs(X1)\n",
    "    ax[k].plot(np.arange(N), X1, '.') \n",
    "    ax[k].set_title(f'f = {i} [Hz]')"
   ]
  },
  {
   "cell_type": "markdown",
   "metadata": {},
   "source": [
    "# Maintaining the magnitude of the fft"
   ]
  },
  {
   "cell_type": "code",
   "execution_count": null,
   "metadata": {},
   "outputs": [],
   "source": [
    "x = np.arange(0,4,0.001)\n",
    "y = np.zeros((x.shape[0],3))\n",
    "f1, f2 = 4, 2\n",
    "A1, A2 = 2, 3\n",
    "\n",
    "y = np.sin(x*math.pi*2*f1)*A1 + np.sin(x*math.pi*2*f2)*A2\n",
    "\n",
    "Py = np.sum(y**2)\n",
    "logging.info(f'Total power original signal {Py:.2f}')\n",
    "\n",
    "Y = sfft.fft(origy)\n",
    "PY = np.sum(np.abs(Y**2))/len(Y)\n",
    "logging.info(f'Total power fft {PY:.2f}')"
   ]
  },
  {
   "cell_type": "code",
   "execution_count": null,
   "metadata": {},
   "outputs": [],
   "source": []
  }
 ],
 "metadata": {
  "kernelspec": {
   "display_name": "Python 3",
   "language": "python",
   "name": "python3"
  },
  "language_info": {
   "codemirror_mode": {
    "name": "ipython",
    "version": 3
   },
   "file_extension": ".py",
   "mimetype": "text/x-python",
   "name": "python",
   "nbconvert_exporter": "python",
   "pygments_lexer": "ipython3",
   "version": "3.6.8"
  }
 },
 "nbformat": 4,
 "nbformat_minor": 4
}
