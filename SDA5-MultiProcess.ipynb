{
 "cells": [
  {
   "cell_type": "markdown",
   "metadata": {},
   "source": [
    "# SDA - lecture 5 - Multiple point processes"
   ]
  },
  {
   "cell_type": "code",
   "execution_count": null,
   "metadata": {},
   "outputs": [],
   "source": [
    "import logging\n",
    "logging.basicConfig(level=logging.INFO, format='%(levelname)s: %(asctime)s: %(message)s')\n",
    "\n",
    "from tqdm import tqdm\n",
    "\n",
    "import numpy as np\n",
    "import matplotlib.pyplot as plt\n",
    "\n",
    "%matplotlib widget\n",
    "# %matplotlib inline"
   ]
  },
  {
   "cell_type": "markdown",
   "metadata": {},
   "source": [
    "### Generate two spike trains"
   ]
  },
  {
   "cell_type": "code",
   "execution_count": null,
   "metadata": {},
   "outputs": [],
   "source": [
    "# Generate a \"spike train\" of a neuron \n",
    "samp = 1000\n",
    "duration = 3600\n",
    "rate_A = 2\n",
    "rate_B = 5\n",
    "\n",
    "# Generate a regular neuron A\n",
    "interval = samp/rate_A\n",
    "spk_time_A = np.arange(interval/2,duration*samp, interval).astype(np.int32)\n",
    "spk_array_A = np.zeros(duration*samp)\n",
    "spk_array_A[spk_time_A] = 1\n",
    "\n",
    "# Generate an affected neuron B\n",
    "alpha = 0.04\n",
    "t = np.arange(-300,301)\n",
    "alpha_array = (rate_B/rate_A)*alpha**2*(t*(t>0))*np.exp(-alpha*t)\n",
    "rate_array_B = np.convolve(spk_array_A, alpha_array, 'same')\n",
    "spk_array_B = (np.random.uniform(size=samp*duration)<rate_array_B).astype(np.int32)\n",
    "time_array = np.arange(0, duration, 1/samp)"
   ]
  },
  {
   "cell_type": "markdown",
   "metadata": {},
   "source": [
    "### Plot two spike trains"
   ]
  },
  {
   "cell_type": "code",
   "execution_count": null,
   "metadata": {},
   "outputs": [],
   "source": [
    "plot_duration = 10000\n",
    "fig, ax = plt.subplots(figsize=(12,4), nrows=2, ncols=1, sharex=True)\n",
    "ax[0].plot(time_array[0:plot_duration], spk_array_A[0:plot_duration])\n",
    "ax[0].set_ylabel('Spikes')\n",
    "ax[0].set_title('Neuron A (regular)')\n",
    "ax[1].plot(time_array[0:plot_duration], spk_array_B[0:plot_duration])\n",
    "ax[1].set_ylabel('Spikes')\n",
    "ax[1].set_xlabel('Time [s]')\n",
    "ax[1].set_title('Neuron B')\n",
    "logging.info(f'Rate of neuron A: {spk_array_A.sum()/duration:.1f} spikes/s')\n",
    "logging.info(f'Rate of neuron B: {spk_array_B.sum()/duration:.1f} spikes/s')"
   ]
  },
  {
   "cell_type": "markdown",
   "metadata": {},
   "source": [
    "### Cross correlation"
   ]
  },
  {
   "cell_type": "code",
   "execution_count": null,
   "metadata": {},
   "outputs": [],
   "source": [
    "def crosscorr(x, y, lags):\n",
    "    c = np.zeros(lags[1]-lags[0]+1)\n",
    "    for i, off in tqdm(enumerate(np.arange(lags[0], lags[1]+1))):\n",
    "        if off > 0:\n",
    "            c[i] = np.sum(x[:-off]*y[off:])\n",
    "        elif off < 0:\n",
    "            c[i] = np.sum(x[-off:]*y[:off])\n",
    "        else:\n",
    "            c[i] = np.sum(y*x)\n",
    "    return c / np.sum(x)\n",
    "    \n",
    "cc_range = [-1000,1000]\n",
    "cc = crosscorr(spk_array_A, spk_array_B,cc_range)\n",
    "\n",
    "fig, ax = plt.subplots(figsize=(12,4), nrows=1, ncols=1)\n",
    "ax.plot(np.arange(cc_range[0],cc_range[1]+1),cc * samp)\n",
    "ax.set_title('Cross correlation (A-->B)')\n",
    "ax.set_ylabel('Rate [spikes/s]')\n",
    "ax.set_xlabel('Offset [ms]')\n",
    "ax.grid()\n"
   ]
  },
  {
   "cell_type": "code",
   "execution_count": null,
   "metadata": {},
   "outputs": [],
   "source": []
  }
 ],
 "metadata": {
  "kernelspec": {
   "display_name": "Python 3 (ipykernel)",
   "language": "python",
   "name": "python3"
  },
  "language_info": {
   "codemirror_mode": {
    "name": "ipython",
    "version": 3
   },
   "file_extension": ".py",
   "mimetype": "text/x-python",
   "name": "python",
   "nbconvert_exporter": "python",
   "pygments_lexer": "ipython3",
   "version": "3.10.1"
  }
 },
 "nbformat": 4,
 "nbformat_minor": 4
}
