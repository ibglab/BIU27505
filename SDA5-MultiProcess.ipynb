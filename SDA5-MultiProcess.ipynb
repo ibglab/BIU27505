{
 "cells": [
  {
   "cell_type": "markdown",
   "metadata": {},
   "source": [
    "# SDA - lecture 5 - Multiple point processes"
   ]
  },
  {
   "cell_type": "code",
   "execution_count": null,
   "metadata": {},
   "outputs": [],
   "source": [
    "import logging\n",
    "logging.basicConfig(level=logging.INFO, format='%(levelname)s: %(asctime)s: %(message)s')\n",
    "\n",
    "import numpy as np\n",
    "import matplotlib.pyplot as plt\n",
    "import pycorrelate\n",
    "\n",
    "%matplotlib widget\n",
    "# %matplotlib inline"
   ]
  },
  {
   "cell_type": "markdown",
   "metadata": {},
   "source": [
    "### Generate two spike trains"
   ]
  },
  {
   "cell_type": "code",
   "execution_count": null,
   "metadata": {},
   "outputs": [],
   "source": [
    "# Generate a \"spike train\" of a neuron \n",
    "samp = 1000\n",
    "duration = 600\n",
    "rate_A = 2\n",
    "rate_B = 5\n",
    "\n",
    "# Generate a regular neuron A\n",
    "interval = samp/rate_A\n",
    "spk_time_A = np.arange(interval/2,duration*samp, interval).astype(np.int32)\n",
    "spk_array_A = np.zeros(duration*samp)\n",
    "spk_array_A[spk_time_A] = 1\n",
    "\n",
    "# Generate an affected neuron B\n",
    "alpha = 0.04\n",
    "t = np.arange(-300,301)\n",
    "alpha_array = (rate_B/rate_A)*alpha**2*(t*(t>0))*np.exp(-alpha*t)\n",
    "rate_array_B = np.convolve(spk_array_A, alpha_array, 'same')\n",
    "spk_array_B = (np.random.uniform(size=samp*duration)<rate_array_B).astype(np.int32)\n",
    "time_array = np.arange(0, duration, 1/samp)"
   ]
  },
  {
   "cell_type": "code",
   "execution_count": null,
   "metadata": {},
   "outputs": [],
   "source": [
    "plot_duration = 10000\n",
    "fig, ax = plt.subplots(figsize=(12,4), nrows=2, ncols=1)\n",
    "ax[0].plot(time_array[0:plot_duration], spk_array_A[0:plot_duration])\n",
    "ax[0].set_ylabel('Spikes')\n",
    "ax[0].set_title('Neuron A (regular)')\n",
    "ax[1].plot(time_array[0:plot_duration], spk_array_B[0:plot_duration])\n",
    "ax[1].set_ylabel('Spikes')\n",
    "ax[1].set_xlabel('Time [s]')\n",
    "ax[1].set_title('Neuron B')\n",
    "logging.info(f'Rate of neuron A: {spk_array_A.sum()/duration:.1f} spikes/s')\n",
    "logging.info(f'Rate of neuron B: {spk_array_B.sum()/duration:.1f} spikes/s')"
   ]
  },
  {
   "cell_type": "markdown",
   "metadata": {},
   "source": [
    "### Draw the cross correlation"
   ]
  },
  {
   "cell_type": "code",
   "execution_count": null,
   "metadata": {},
   "outputs": [],
   "source": [
    "def plt_corr(c, ax=ax):\n",
    "    ax.plot(cbins[:-1],c / duration * samp)\n",
    "    ax.set_title('Cross correlation (A-->B)')\n",
    "    ax.set_ylabel('Rate [spikes/s]')\n",
    "    ax.set_xlabel('Offset [ms]')\n",
    "    ax.grid()\n",
    "\n",
    "fig, ax = plt.subplots(figsize=(12,4), nrows=1, ncols=1)\n",
    "cbins = np.arange(-1000,1000,1)\n",
    "xcorr = pycorrelate.pcorrelate(spk_array_A.nonzero()[0], spk_array_B.nonzero()[0], bins=cbins)\n",
    "plt_corr(xcorr, ax)"
   ]
  },
  {
   "cell_type": "code",
   "execution_count": null,
   "metadata": {},
   "outputs": [],
   "source": [
    "fig, ax = plt.subplots(figsize=(12,4), nrows=1, ncols=1)\n",
    "cbins = np.arange(-250,250,1)\n",
    "xcorr = pycorrelate.pcorrelate(spk_array_A.nonzero()[0], spk_array_B.nonzero()[0], bins=cbins)\n",
    "plt_corr(xcorr, ax)"
   ]
  },
  {
   "cell_type": "code",
   "execution_count": null,
   "metadata": {},
   "outputs": [],
   "source": []
  }
 ],
 "metadata": {
  "kernelspec": {
   "display_name": "Python 3",
   "language": "python",
   "name": "python3"
  },
  "language_info": {
   "codemirror_mode": {
    "name": "ipython",
    "version": 3
   },
   "file_extension": ".py",
   "mimetype": "text/x-python",
   "name": "python",
   "nbconvert_exporter": "python",
   "pygments_lexer": "ipython3",
   "version": "3.8.3"
  }
 },
 "nbformat": 4,
 "nbformat_minor": 4
}
