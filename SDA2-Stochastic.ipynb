{
 "cells": [
  {
   "cell_type": "markdown",
   "metadata": {},
   "source": [
    "# SDA - lecture 2 - Stochastic processes"
   ]
  },
  {
   "cell_type": "code",
   "execution_count": null,
   "metadata": {},
   "outputs": [],
   "source": [
    "import numpy as np\n",
    "import scipy.signal as sig\n",
    "import matplotlib.pyplot as plt\n",
    "\n",
    "%matplotlib widget\n",
    "# %matplotlib inline"
   ]
  },
  {
   "cell_type": "markdown",
   "metadata": {},
   "source": [
    "### Calculate the firing rate of neurons"
   ]
  },
  {
   "cell_type": "code",
   "execution_count": null,
   "metadata": {},
   "outputs": [],
   "source": [
    "# Generate a \"spike train\" of a simulated Poisson neuron \n",
    "\n",
    "samp = 1000\n",
    "rate = 20 / samp\n",
    "duration = 5\n",
    "\n",
    "spk_array = (np.random.uniform(size=samp*duration)<rate).astype(np.int32)\n",
    "time_array = np.arange(0, duration, 1/samp)\n",
    "\n",
    "def rate_plot(x, y, ax, title, samp=1000, bottom=False):\n",
    "    ax.plot(x,y*samp)\n",
    "    ax.set_ylabel('Firing rate\\n[sp/s]')\n",
    "    if bottom:\n",
    "        ax.set_xlabel('Time [s]')\n",
    "    else:\n",
    "        ax.tick_params(bottom=False, labelbottom=False)\n",
    "    ax.set_title(title)\n",
    "    ax.grid()\n",
    "    \n",
    "fig, ax = plt.subplots(figsize=(6,10), nrows=5, ncols=1)\n",
    "\n",
    "rate_plot(time_array, spk_array, ax[0], 'Spike train')\n",
    "\n",
    "bin_size = 100\n",
    "bin_array = np.zeros_like(spk_array, dtype=np.float32)\n",
    "for i in np.arange(0, samp*duration, bin_size):\n",
    "    bin_array[i:i+bin_size] = spk_array[i:i+bin_size].sum() / bin_size\n",
    "rate_plot(time_array, bin_array, ax[1], 'Binned Spike train')\n",
    "\n",
    "win_size = 100\n",
    "win_array = np.ones(win_size)/win_size\n",
    "rec_conv_array = np.convolve(spk_array, win_array, 'same')\n",
    "rate_plot(time_array, rec_conv_array, ax[2], 'Rectengular convolution')\n",
    "\n",
    "win_size = 200\n",
    "conv_std = 50\n",
    "gauss_array = sig.gaussian(win_size, conv_std)\n",
    "gauss_conv_array = np.convolve(spk_array, gauss_array / np.sum(gauss_array), 'same')\n",
    "rate_plot(time_array, gauss_conv_array, ax[3], 'Gaussian convolution')\n",
    "\n",
    "alpha = 0.02\n",
    "t = np.arange(-300,301)\n",
    "alpha_array = alpha**2*(t*(t>0))*np.exp(-alpha*t)\n",
    "alpha_conv_array = np.convolve(spk_array, alpha_array, 'same')\n",
    "rate_plot(time_array, alpha_conv_array, ax[4], 'Causal convolution', bottom=True)\n",
    "\n"
   ]
  },
  {
   "cell_type": "markdown",
   "metadata": {},
   "source": [
    "### Multiple spike trains of the same/different neuron"
   ]
  },
  {
   "cell_type": "code",
   "execution_count": null,
   "metadata": {},
   "outputs": [],
   "source": [
    "nex = 11\n",
    "fig, ax = plt.subplots(figsize=(6,6), nrows=nex, ncols=1)\n",
    "def plot_pts(t, ax, c, rng):\n",
    "    ax.plot(t, np.zeros_like(t),'.'+c)  \n",
    "    ax.tick_params(left=False,\n",
    "                bottom=False,\n",
    "                labelleft=False,\n",
    "                labelbottom=False)\n",
    "    ax.set_xlim(rng)\n",
    "\n",
    "samp = 1000\n",
    "duration = 2\n",
    "rate1, rate2 = 5/samp, 5/samp\n",
    "\n",
    "for i in range(nex):\n",
    "    if i<nex-1:\n",
    "        rate, c = rate1, 'b'\n",
    "    else:\n",
    "        rate, c = rate2, 'r'\n",
    "    spk_time = np.nonzero(np.random.uniform(size=samp*duration)<rate)\n",
    "    plot_pts(spk_time,ax[i],c,[0, samp*duration])"
   ]
  },
  {
   "cell_type": "markdown",
   "metadata": {},
   "source": [
    "### Signal to noise ratio"
   ]
  },
  {
   "cell_type": "code",
   "execution_count": null,
   "metadata": {},
   "outputs": [],
   "source": [
    "def rms(s):\n",
    "    return np.sqrt(np.mean(s**2))\n",
    "\n",
    "samp = 1000\n",
    "noise = np.random.normal(scale=2,size=samp)\n",
    "signal = np.sin(np.arange(0,1,1/samp)*2*np.pi)*3\n",
    "fig, ax = plt.subplots(figsize=(12,4), nrows=1, ncols=3)\n",
    "ax[0].plot(signal)\n",
    "ax[1].plot(noise)\n",
    "ax[2].plot(signal+noise)\n",
    "\n",
    "rms_signal, rms_noise = rms(signal), rms(noise)\n",
    "print(f'RMS: signal {rms_signal:.2f} noise {rms_noise:.2f}')\n",
    "snr = rms_signal / rms_noise\n",
    "print(f'SNR: {snr**2:.2f} or {20*np.log10(snr):.2f}dB')"
   ]
  },
  {
   "cell_type": "code",
   "execution_count": null,
   "metadata": {},
   "outputs": [],
   "source": []
  }
 ],
 "metadata": {
  "kernelspec": {
   "display_name": "Python 3",
   "language": "python",
   "name": "python3"
  },
  "language_info": {
   "codemirror_mode": {
    "name": "ipython",
    "version": 3
   },
   "file_extension": ".py",
   "mimetype": "text/x-python",
   "name": "python",
   "nbconvert_exporter": "python",
   "pygments_lexer": "ipython3",
   "version": "3.8.3"
  }
 },
 "nbformat": 4,
 "nbformat_minor": 4
}
