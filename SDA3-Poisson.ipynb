{
 "cells": [
  {
   "cell_type": "markdown",
   "metadata": {},
   "source": [
    "# SDA - lecture 3 - Poisson processes"
   ]
  },
  {
   "cell_type": "code",
   "execution_count": 4,
   "metadata": {},
   "outputs": [],
   "source": [
    "import logging\n",
    "logging.basicConfig(level=logging.INFO, format='%(levelname)s: %(asctime)s: %(message)s')\n",
    "\n",
    "import math\n",
    "import numpy as np\n",
    "import matplotlib.pyplot as plt\n",
    "\n",
    "%matplotlib widget\n",
    "# %matplotlib inline"
   ]
  },
  {
   "cell_type": "code",
   "execution_count": 5,
   "metadata": {},
   "outputs": [],
   "source": [
    "# Generate a \"spike train\" of a neuron \n",
    "samp = 1000\n",
    "rate = 20 / samp\n",
    "duration = 100\n",
    "\n",
    "spk_array = (np.random.uniform(size=samp*duration)<rate).astype(np.int32)\n",
    "time_array = np.arange(0, duration, 1/samp)"
   ]
  },
  {
   "cell_type": "markdown",
   "metadata": {},
   "source": [
    "### Histogram of spike counts in different sized bins"
   ]
  },
  {
   "cell_type": "code",
   "execution_count": null,
   "metadata": {},
   "outputs": [],
   "source": [
    "bin_range = [25, 50, 100,200,400]\n",
    "fig, ax = plt.subplots(figsize=(3*len(bin_range),3), nrows=1, ncols=len(bin_range))\n",
    "\n",
    "for a, bin_size in enumerate(bin_range):\n",
    "    bin_array = np.zeros(math.ceil(samp*duration/bin_size))\n",
    "    for i, s in enumerate(np.arange(0, samp*duration, bin_size)):\n",
    "        bin_array[i] = spk_array[s:s+bin_size].sum()\n",
    "    hist_vals, hist_bins = np.histogram(bin_array, bins = np.arange(0, bin_array.max()+2))\n",
    "    bin_mean, bin_var = np.mean(bin_array), np.var(bin_array)\n",
    "    ff = bin_var / bin_mean\n",
    "    ax[a].bar(hist_bins[0:-1],hist_vals)\n",
    "    ax[a].set_xlabel('Spikes/Bin')\n",
    "    ax[a].set_ylabel('Count')\n",
    "    ax[a].set_title(f'T={bin_size} ms   FF={ff:.2f}')\n",
    "    logging.info(f'(T={bin_size} ms) r={rate} spikes/ms Mean {bin_mean:.2f} Var {bin_var:.2f} --> Fano Factor : {ff:.2f}')\n",
    "    fig.tight_layout()"
   ]
  },
  {
   "cell_type": "code",
   "execution_count": null,
   "metadata": {},
   "outputs": [],
   "source": []
  }
 ],
 "metadata": {
  "kernelspec": {
   "display_name": "Python 3 (ipykernel)",
   "language": "python",
   "name": "python3"
  },
  "language_info": {
   "codemirror_mode": {
    "name": "ipython",
    "version": 3
   },
   "file_extension": ".py",
   "mimetype": "text/x-python",
   "name": "python",
   "nbconvert_exporter": "python",
   "pygments_lexer": "ipython3",
   "version": "3.10.1"
  }
 },
 "nbformat": 4,
 "nbformat_minor": 4
}
