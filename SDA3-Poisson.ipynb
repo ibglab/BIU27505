{
 "cells": [
  {
   "cell_type": "markdown",
   "metadata": {},
   "source": [
    "# SDA - lecture 3 - Poisson processes"
   ]
  },
  {
   "cell_type": "code",
   "execution_count": 1,
   "metadata": {},
   "outputs": [],
   "source": [
    "import logging\n",
    "logging.basicConfig(level=logging.INFO, format='%(levelname)s: %(asctime)s: %(message)s')\n",
    "\n",
    "import math\n",
    "import numpy as np\n",
    "import matplotlib.pyplot as plt\n",
    "\n",
    "%matplotlib widget\n",
    "# %matplotlib inline"
   ]
  },
  {
   "cell_type": "code",
   "execution_count": 2,
   "metadata": {},
   "outputs": [],
   "source": [
    "# Generate a \"spike train\" of a neuron \n",
    "samp = 1000\n",
    "rate = 20 / samp\n",
    "duration = 100\n",
    "\n",
    "spk_array = (np.random.uniform(size=samp*duration)<rate).astype(np.int32)\n",
    "time_array = np.arange(0, duration, 1/samp)"
   ]
  },
  {
   "cell_type": "markdown",
   "metadata": {},
   "source": [
    "### Histogram of spike counts in different sized bins"
   ]
  },
  {
   "cell_type": "code",
   "execution_count": 5,
   "metadata": {},
   "outputs": [
    {
     "data": {
      "application/vnd.jupyter.widget-view+json": {
       "model_id": "4f24f95bf82f465699956ccb93c4e0f7",
       "version_major": 2,
       "version_minor": 0
      },
      "text/plain": [
       "Canvas(toolbar=Toolbar(toolitems=[('Home', 'Reset original view', 'home', 'home'), ('Back', 'Back to previous …"
      ]
     },
     "metadata": {},
     "output_type": "display_data"
    },
    {
     "name": "stderr",
     "output_type": "stream",
     "text": [
      "INFO: 2021-04-18 12:50:51,160: (T=25 ms) r=0.02 spikes/ms Mean 0.50 Var 0.48 --> Fano Factor : 0.97\n",
      "INFO: 2021-04-18 12:50:51,304: (T=50 ms) r=0.02 spikes/ms Mean 1.00 Var 0.97 --> Fano Factor : 0.97\n",
      "INFO: 2021-04-18 12:50:51,370: (T=100 ms) r=0.02 spikes/ms Mean 2.00 Var 1.94 --> Fano Factor : 0.97\n",
      "INFO: 2021-04-18 12:50:51,433: (T=200 ms) r=0.02 spikes/ms Mean 3.99 Var 3.73 --> Fano Factor : 0.93\n",
      "INFO: 2021-04-18 12:50:51,500: (T=400 ms) r=0.02 spikes/ms Mean 7.98 Var 8.09 --> Fano Factor : 1.01\n"
     ]
    }
   ],
   "source": [
    "bin_range = [25, 50, 100,200,400]\n",
    "fig, ax = plt.subplots(figsize=(3*len(bin_range),3), nrows=1, ncols=len(bin_range))\n",
    "\n",
    "for a, bin_size in enumerate(bin_range):\n",
    "    bin_array = np.zeros(math.ceil(samp*duration/bin_size))\n",
    "    for i, s in enumerate(np.arange(0, samp*duration, bin_size)):\n",
    "        bin_array[i] = spk_array[s:s+bin_size].sum()\n",
    "    hist_vals, hist_bins = np.histogram(bin_array, bins = np.arange(0, bin_array.max()+2))\n",
    "    bin_mean, bin_var = np.mean(bin_array), np.var(bin_array)\n",
    "    ff = bin_var / bin_mean\n",
    "    ax[a].bar(hist_bins[0:-1],hist_vals)\n",
    "    ax[a].set_xlabel('Spikes/Bin')\n",
    "    ax[a].set_ylabel('Count')\n",
    "    ax[a].set_title(f'T={bin_size} ms   FF={ff:.2f}')\n",
    "    logging.info(f'(T={bin_size} ms) r={rate} spikes/ms Mean {bin_mean:.2f} Var {bin_var:.2f} --> Fano Factor : {ff:.2f}')\n",
    "    fig.tight_layout()"
   ]
  },
  {
   "cell_type": "code",
   "execution_count": 22,
   "metadata": {},
   "outputs": [
    {
     "data": {
      "text/plain": [
       "0.288"
      ]
     },
     "execution_count": 22,
     "metadata": {},
     "output_type": "execute_result"
    }
   ],
   "source": [
    "0.36*0.8"
   ]
  },
  {
   "cell_type": "code",
   "execution_count": 21,
   "metadata": {},
   "outputs": [
    {
     "data": {
      "text/plain": [
       "1.152"
      ]
     },
     "execution_count": 21,
     "metadata": {},
     "output_type": "execute_result"
    }
   ],
   "source": []
  },
  {
   "cell_type": "markdown",
   "metadata": {},
   "source": []
  },
  {
   "cell_type": "code",
   "execution_count": 15,
   "metadata": {},
   "outputs": [
    {
     "data": {
      "text/plain": [
       "2.5600000000000005"
      ]
     },
     "execution_count": 15,
     "metadata": {},
     "output_type": "execute_result"
    }
   ],
   "source": []
  },
  {
   "cell_type": "code",
   "execution_count": null,
   "metadata": {},
   "outputs": [],
   "source": []
  }
 ],
 "metadata": {
  "kernelspec": {
   "display_name": "Python 3",
   "language": "python",
   "name": "python3"
  },
  "language_info": {
   "codemirror_mode": {
    "name": "ipython",
    "version": 3
   },
   "file_extension": ".py",
   "mimetype": "text/x-python",
   "name": "python",
   "nbconvert_exporter": "python",
   "pygments_lexer": "ipython3",
   "version": "3.8.3"
  }
 },
 "nbformat": 4,
 "nbformat_minor": 4
}
