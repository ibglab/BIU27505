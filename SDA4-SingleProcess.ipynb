{
 "cells": [
  {
   "cell_type": "markdown",
   "metadata": {},
   "source": [
    "# SDA - lecture 4 - Single point process"
   ]
  },
  {
   "cell_type": "code",
   "execution_count": null,
   "metadata": {},
   "outputs": [],
   "source": [
    "import logging\n",
    "logging.basicConfig(level=logging.INFO, format='%(levelname)s: %(asctime)s: %(message)s')\n",
    "\n",
    "import math\n",
    "import numpy as np\n",
    "import matplotlib.pyplot as plt\n",
    "\n",
    "from sklearn.linear_model import LinearRegression\n",
    "\n",
    "%matplotlib widget\n",
    "# %matplotlib inline"
   ]
  },
  {
   "cell_type": "markdown",
   "metadata": {},
   "source": [
    "## Generate a Poisson \"spike train\""
   ]
  },
  {
   "cell_type": "code",
   "execution_count": null,
   "metadata": {},
   "outputs": [],
   "source": [
    "samp = 1000                   # Sampling rate [1/s]\n",
    "rate = 20 / samp              # Firing rate [spikes/s]\n",
    "duration = 3600               # Duration of the spike train [s]\n",
    "\n",
    "spk_array = (np.random.uniform(size=samp*duration)<rate).astype(np.int32)\n",
    "time_array = np.arange(0, duration, 1/samp)"
   ]
  },
  {
   "cell_type": "markdown",
   "metadata": {},
   "source": [
    "## The inter-spike interval (ISI) histogram\n",
    "Also termed time interval histogram (TIH)"
   ]
  },
  {
   "cell_type": "code",
   "execution_count": null,
   "metadata": {},
   "outputs": [],
   "source": [
    "def plot_dist(ax, xdata, ydata, title, xlabel='Interval [ms]', ylabel='Probability'):\n",
    "    ax.step(xdata, ydata)\n",
    "    ax.set_xlabel(xlabel)\n",
    "    ax.set_ylabel(ylabel)\n",
    "    ax.set_title(title)\n",
    "    ax.grid()"
   ]
  },
  {
   "cell_type": "code",
   "execution_count": null,
   "metadata": {},
   "outputs": [],
   "source": [
    "spk_times = np.flatnonzero(spk_array) * 1000 / samp  # Switch from bins to milliseconds\n",
    "spk_intervals = np.diff(spk_times) \n",
    "\n",
    "fig, ax = plt.subplots(figsize=(10,4), nrows=1, ncols=2)\n",
    "\n",
    "np.seterr(divide = 'ignore')\n",
    "bin_size = 5\n",
    "fig.suptitle(f'Bin size = {bin_size}')\n",
    "\n",
    "hist_vals, hist_bins = np.histogram(spk_intervals, bins=np.arange(1,400,bin_size), density=True)\n",
    "hist_vals *= bin_size\n",
    "\n",
    "plot_dist(ax[0], hist_bins[:-1], hist_vals, 'Linear TIH')\n",
    "plot_dist(ax[1], hist_bins[:-1], np.log(hist_vals), 'Logarithmic TIH', ylabel= 'Log Probability')\n",
    "\n",
    "reg = LinearRegression()  \n",
    "reg.fit(hist_bins[:20].reshape((-1,1)), np.log(hist_vals[:20]).reshape((-1,1)))\n",
    "pred_vals = reg.predict(hist_bins.reshape((-1,1)))  \n",
    "ax[1].plot(hist_bins, pred_vals.reshape(-1),'k:')\n",
    "\n",
    "logging.info(f'Slope reflects a rate of {-reg.coef_[0][0]*1000:.2f} spikes/s')\n",
    "logging.info(f'Interception reflects a rate of {np.exp(reg.intercept_[0])*1000/bin_size:.2f} spikes/s')"
   ]
  },
  {
   "cell_type": "code",
   "execution_count": null,
   "metadata": {},
   "outputs": [],
   "source": [
    "fig, ax = plt.subplots(figsize=(8,8), nrows=2, ncols=2)\n",
    "\n",
    "cumsum_vals = np.insert(np.cumsum(hist_vals),0,0)\n",
    "fig.suptitle(f'Bin size = {bin_size}')\n",
    "plot_dist(ax[0,0], hist_bins[:-1], hist_vals, 'ISI distribution',xlabel='')\n",
    "plot_dist(ax[0,1], hist_bins, cumsum_vals, 'Cumulative distirbution', xlabel='',ylabel='')\n",
    "survivor = 1 - cumsum_vals\n",
    "plot_dist(ax[1,0], hist_bins, survivor, 'Survivor function')\n",
    "plot_dist(ax[1,1], hist_bins[:-1], hist_vals / survivor[:-1], 'Hazard function', ylabel='')"
   ]
  },
  {
   "cell_type": "markdown",
   "metadata": {},
   "source": [
    "### Hazard function\n",
    "(Contributed by Yarden Nativ - 2020)"
   ]
  },
  {
   "cell_type": "code",
   "execution_count": null,
   "metadata": {},
   "outputs": [],
   "source": [
    "# Generate a poisson neuron with refractory period\n",
    "ref_period = 10 #in ms\n",
    "spk_vec=np.zeros(duration*samp)\n",
    "rand_vec=np.random.uniform(low=0, high=1, size=duration*samp)\n",
    "idx=0\n",
    "while idx<duration*samp:\n",
    "    if rand_vec[idx] <= rate:\n",
    "        spk_vec[idx] = 1\n",
    "        idx = idx+ref_period+1\n",
    "    else:\n",
    "        idx=idx+1\n",
    "\n",
    "# first we calculate TIH and TIH probabilities\n",
    "spk_times = np.where(spk_vec==1)[0]\n",
    "isi_vec = np.diff(spk_times)\n",
    "tih, _ = np.histogram(isi_vec, bins=np.arange(1,400,1), density=True)\n",
    "\n",
    "# now we calculate servivor function\n",
    "survivor = 1 - np.cumsum(tih)\n",
    "\n",
    "# calculatin hazard function \n",
    "hazard = tih[1:] / survivor[0:-1]\n",
    "\n",
    "#plotting hazard function\n",
    "fig, ax = plt.subplots(figsize=(6,4), nrows=1, ncols=1)\n",
    "ax.plot(hazard)\n",
    "ax.set_title('Hazard function for single Poisson process with refractory Period')\n",
    "ax.set_xlabel('Interval [ms]')\n",
    "ax.set_ylabel('ISI(t)/Survivor(t-1)');"
   ]
  },
  {
   "cell_type": "code",
   "execution_count": null,
   "metadata": {},
   "outputs": [],
   "source": []
  }
 ],
 "metadata": {
  "kernelspec": {
   "display_name": "Python 3",
   "language": "python",
   "name": "python3"
  },
  "language_info": {
   "codemirror_mode": {
    "name": "ipython",
    "version": 3
   },
   "file_extension": ".py",
   "mimetype": "text/x-python",
   "name": "python",
   "nbconvert_exporter": "python",
   "pygments_lexer": "ipython3",
   "version": "3.8.3"
  }
 },
 "nbformat": 4,
 "nbformat_minor": 4
}
