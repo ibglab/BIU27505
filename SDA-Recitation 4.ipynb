{
 "cells": [
  {
   "cell_type": "code",
   "execution_count": 1,
   "metadata": {},
   "outputs": [],
   "source": [
    "import numpy as np\n",
    "import scipy.signal as sig\n",
    "import matplotlib.pyplot as plt\n",
    "\n",
    "%matplotlib widget\n",
    "# %matplotlib inline\n",
    "\n",
    "import ipywidgets as widgets\n",
    "\n",
    "%config InlineBackend.figure_format = 'retina'"
   ]
  },
  {
   "cell_type": "markdown",
   "metadata": {},
   "source": [
    "### cross correlation: correlating 2 different time series"
   ]
  },
  {
   "cell_type": "code",
   "execution_count": 2,
   "metadata": {},
   "outputs": [
    {
     "data": {
      "text/plain": [
       "array([0, 2, 4, 3, 2, 1, 0, 0])"
      ]
     },
     "execution_count": 2,
     "metadata": {},
     "output_type": "execute_result"
    }
   ],
   "source": [
    "arr1 = np.array([0,1,2,1,0])\n",
    "arr2 = np.array([0,1,0,2])\n",
    "sig.correlate(arr1,arr2)\n",
    "# notice Which is the reference and whice is the target, what led to this result?"
   ]
  },
  {
   "cell_type": "markdown",
   "metadata": {},
   "source": [
    "### let us generate 2 neurons that have a base firing rate of 10 sp/s and react to a stimulus with a spike after a noisy delay:"
   ]
  },
  {
   "cell_type": "code",
   "execution_count": 3,
   "metadata": {},
   "outputs": [
    {
     "data": {
      "application/vnd.jupyter.widget-view+json": {
       "model_id": "ab3563394aeb46e1b4719717a5e179ef",
       "version_major": 2,
       "version_minor": 0
      },
      "text/plain": [
       "interactive(children=(IntSlider(value=30, description='delay1', max=60, min=5, step=5), IntSlider(value=30, de…"
      ]
     },
     "metadata": {},
     "output_type": "display_data"
    }
   ],
   "source": [
    "# set parameters for the spike trains:\n",
    "samp = 1000\n",
    "rate = 10 / samp\n",
    "duration = 360\n",
    "total = samp*duration\n",
    "dt = 1/samp\n",
    "\n",
    "def interactive_cross_correlation(delay1, delay2, std, pfire1, pfire2, stim_freq):\n",
    "#   create poisson spike trains: \n",
    "    spk_train1 = (np.random.uniform(size=samp*duration)<rate).astype(np.int32)\n",
    "    spk_train2 = (np.random.uniform(size=samp*duration)<rate).astype(np.int32)\n",
    "#   add a spike after every stimulation with noisy delay \n",
    "    for i in np.arange(100,total,int(samp/stim_freq)):\n",
    "        if np.random.uniform()<pfire1:\n",
    "            spk_train1[i+delay1+np.rint(std*np.random.randn(1)).astype(np.int16)] = 1\n",
    "        if np.random.uniform()<pfire2:\n",
    "            spk_train2[i+delay2+np.rint(std*np.random.randn(1)).astype(np.int16)] = 1\n",
    "#   calculate autocorrelation:\n",
    "    autocorr = sig.correlate(spk_train1, spk_train2, mode='full', method='auto')/sum(spk_train2)/dt\n",
    "#   smooth autocorrelation:  \n",
    "    window = sig.gaussian(15, 6)\n",
    "    smoothed_autocorr = np.convolve(autocorr, window, 'same')/sum(window)\n",
    "#   plot\n",
    "    fig, ax = plt.subplots(figsize=(10,3))\n",
    "    ax.plot(np.arange(-0.5,0.5,dt),smoothed_autocorr[(total-500):(total+500)])\n",
    "    ax.set_xlabel('Offset(sec)')\n",
    "    ax.set_ylabel('rate(sp/s)')\n",
    "    ax.set_title('cross correlation interactive plot')\n",
    "    \n",
    "    fig.tight_layout()\n",
    "    \n",
    "_ = widgets.interact(interactive_cross_correlation, delay1 = (5,60,5), delay2 = (5,60,5), std=(1,20,1), pfire1=(0.1,1,0.1), pfire2=(0.1,1,0.1), stim_freq=[5,10,15])"
   ]
  },
  {
   "cell_type": "markdown",
   "metadata": {},
   "source": [
    "#### Observe the cross correlation above, change the parameters and try to answer the following questions:\n",
    "#### 1) Which neuron is the target and which is reference?\n",
    "#### 2) What is the relation between these twho neurons? is the relation dependent on some of the parameters?\n",
    "#### 3) If we calculated a shift predictor, how would it look like?\n",
    "#### 4) What would we see if we observed a bigger window of offsets?\n",
    "#### 5) How can we improve visualization of this autocorrelation?\n",
    "#### 6) Observe the result of correlating the arrays of ones below, explain the result."
   ]
  },
  {
   "cell_type": "code",
   "execution_count": 4,
   "metadata": {},
   "outputs": [
    {
     "data": {
      "text/plain": [
       "array([ 1.,  2.,  3.,  4.,  5.,  6.,  7.,  8.,  9., 10., 11., 12., 13.,\n",
       "       14., 15., 16., 17., 18., 19., 20., 21., 22., 23., 24., 25., 26.,\n",
       "       27., 28., 29., 30., 29., 28., 27., 26., 25., 24., 23., 22., 21.,\n",
       "       20., 19., 18., 17., 16., 15., 14., 13., 12., 11., 10.,  9.,  8.,\n",
       "        7.,  6.,  5.,  4.,  3.,  2.,  1.])"
      ]
     },
     "execution_count": 4,
     "metadata": {},
     "output_type": "execute_result"
    }
   ],
   "source": [
    "sig.correlate(np.ones(30),np.ones(30))"
   ]
  },
  {
   "cell_type": "markdown",
   "metadata": {},
   "source": [
    "#### Let us create a shift predictor and correct a cross correlation\n",
    "\n",
    "#### in the following example, neuron 1 fires at a noisy delay after a stimulation while neuron 2 fires at a noisy delay after neuron 1 (at stimulation times only). We have calculated a shift predictor and used it to correct the cross correlation. \n",
    "#### Observe the following widget, try to answer the following:\n",
    "#### 1) How is the shift predictor calculated? Does this cause problems?\n",
    "#### 2) What can we learn from the shift predictor?\n",
    "#### 3) What does the corrected cross correlation tell us?\n",
    "#### 4) Describe another way to calculate shift predictor"
   ]
  },
  {
   "cell_type": "code",
   "execution_count": 5,
   "metadata": {},
   "outputs": [
    {
     "data": {
      "application/vnd.jupyter.widget-view+json": {
       "model_id": "2802b5d131ad4b7aaf5baf07c03e37a0",
       "version_major": 2,
       "version_minor": 0
      },
      "text/plain": [
       "interactive(children=(IntSlider(value=15, description='delay1', max=30, min=5, step=5), IntSlider(value=30, de…"
      ]
     },
     "metadata": {},
     "output_type": "display_data"
    }
   ],
   "source": [
    "# generate spike trains\n",
    "\n",
    "samp = 1000\n",
    "rate = 10 / samp\n",
    "duration = 360\n",
    "total = samp*duration\n",
    "dt = 1/samp\n",
    "\n",
    "\n",
    "def interactive_cross_correlation(delay1, delay2, std, pfire1, pfire2, stim_freq):\n",
    "\n",
    "    spk_train1 = (np.random.uniform(size=samp*duration)<rate).astype(np.int32)\n",
    "    spk_train2 = (np.random.uniform(size=samp*duration)<rate).astype(np.int32)\n",
    "\n",
    "    for i in np.arange(100,total,int(samp/stim_freq)):\n",
    "        d1 = delay1+np.rint(std*np.random.randn(1)).astype(np.int16)\n",
    "        if np.random.uniform()<pfire1:\n",
    "            spk_train1[i+d1] = 1\n",
    "        d2 = d1 + delay2 + np.rint(2*np.random.randn(1)).astype(np.int16)\n",
    "        if np.random.uniform()<pfire2:\n",
    "            spk_train2[i+d2] = 1\n",
    "\n",
    "    autocorr = sig.correlate(spk_train1, spk_train2, mode='full', method='auto')/sum(spk_train2)/dt\n",
    "    window = sig.gaussian(15, 4)\n",
    "    smoothed_autocorr = np.convolve(autocorr, window, 'same')/sum(window)\n",
    "    fig, ax = plt.subplots(nrows=3, figsize=(10,7), sharey=True)\n",
    "    ax[0].plot(np.arange(-0.5,0.5,dt),smoothed_autocorr[(total-500):(total+500)])\n",
    "    ax[0].set_xlabel('Time(sec)')\n",
    "    ax[0].set_ylabel('rate(sp/s)')\n",
    "    ax[0].set_title('cross correlation')\n",
    "    \n",
    "### calculate shift predictor\n",
    "\n",
    "    shift_period = int(samp/stim_freq)*5 # amount of bins to shift by:\n",
    "#   Shifting  \n",
    "    shifted = np.roll(spk_train1, shift_period)\n",
    "#   correlation with the shifted spike train to calculate the shift predictor:\n",
    "    shift_predictor = sig.correlate(shifted, spk_train2, mode='full', method='auto')/sum(spk_train2)/dt\n",
    "    window = sig.gaussian(15, 4)\n",
    "    smoothed_shift_predictor = np.convolve(shift_predictor, window, 'same')/sum(window)\n",
    "    ax[1].plot(np.arange(-0.5,0.5,dt),smoothed_shift_predictor[(total-500):(total+500)])\n",
    "    ax[1].set_xlabel('Time(sec)')\n",
    "    ax[1].set_ylabel('rate(sp/s)')\n",
    "    ax[1].set_title('shift predictor')\n",
    "#   using the shift predictor to correct the autocorrelation:\n",
    "    corrected_autocorr = autocorr - shift_predictor\n",
    "    window = sig.gaussian(8, 2)\n",
    "    corrected_smoothed_autocorr = np.convolve(corrected_autocorr, window, 'same')/sum(window)\n",
    "    ax[2].plot(np.arange(-0.5,0.5,dt),corrected_smoothed_autocorr[(total-500):(total+500)])\n",
    "    ax[2].set_xlabel('Time(sec)')\n",
    "    ax[2].set_ylabel('rate(sp/s)')\n",
    "    ax[2].set_title('corrected cross correlation')\n",
    "    plt.tight_layout()\n",
    "    \n",
    "    \n",
    "_ = widgets.interact(interactive_cross_correlation, delay1 = (5,30,5), delay2 = (5,60,5), std=(1,20,1), pfire1=(0.1,1,0.1), pfire2=(0.1,1,0.1), stim_freq=[5,10,15])"
   ]
  },
  {
   "cell_type": "markdown",
   "metadata": {},
   "source": [
    "### Peri Stimulus Time histogram - PSTH\n",
    "#### Below you will find the psth of the neurons recorded in the same conditions as above \n",
    "#### Observe the following widget, try to answer the following:\n",
    "#### 1) How is the PSTH calculated in the code?\n",
    "#### 2) What are the differences between the upper and bottom plots? \n",
    "#### 3) what information can we derive from the psth?"
   ]
  },
  {
   "cell_type": "code",
   "execution_count": 12,
   "metadata": {},
   "outputs": [
    {
     "data": {
      "application/vnd.jupyter.widget-view+json": {
       "model_id": "4a8cbb72dca940feabf3b8d9ece6be0e",
       "version_major": 2,
       "version_minor": 0
      },
      "text/plain": [
       "interactive(children=(IntSlider(value=25, description='delay1', max=50, min=5, step=5), IntSlider(value=25, de…"
      ]
     },
     "metadata": {},
     "output_type": "display_data"
    }
   ],
   "source": [
    "def interactive_psth(delay1, delay2, std, pfire1, pfire2, stim_freq):\n",
    "\n",
    "    spk_train1 = (np.random.uniform(size=samp*duration)<rate).astype(np.int32)\n",
    "    spk_train2 = (np.random.uniform(size=samp*duration)<rate).astype(np.int32)\n",
    "\n",
    "    trial_duration = int(samp/stim_freq)\n",
    "    for i in np.arange(0,total,trial_duration):\n",
    "        d1 = delay1+np.rint(std*np.random.randn(1)).astype(np.int16)\n",
    "        if np.random.uniform()<pfire1:\n",
    "            spk_train1[i+d1] = 1\n",
    "        d2 = d1 + delay2 + np.rint(2*np.random.randn(1)).astype(np.int16)\n",
    "        if np.random.uniform()<pfire2:\n",
    "            spk_train2[i+d2] = 1\n",
    "\n",
    "    psth1 = np.sum(spk_train1.reshape(-1, trial_duration), axis=0 )\n",
    "    psth2 = np.sum(spk_train2.reshape(-1, trial_duration), axis=0 )\n",
    "       \n",
    "    window = sig.gaussian(6, 2)\n",
    "    smoothed_psth1 = np.convolve(psth1, window, 'same')/sum(window)\n",
    "    smoothed_psth2 = np.convolve(psth2, window, 'same')/sum(window)\n",
    "    \n",
    "    fig, ax = plt.subplots(nrows=2, figsize=(10,6), sharey=True)\n",
    "    ax[0].bar(np.arange(0,trial_duration,1),psth1)\n",
    "    ax[0].set_xlabel('Time(ms)')\n",
    "    ax[0].set_ylabel('count(spikes)')\n",
    "    ax[0].set_title('PSTH neuron 1')\n",
    "\n",
    "    ax[1].plot(np.arange(0,trial_duration,1),smoothed_psth2)\n",
    "    ax[1].set_xlabel('Time(ms)')\n",
    "    ax[1].set_ylabel('count(spikes)')\n",
    "    ax[1].set_title('PSTH neuron 2')\n",
    "    \n",
    "    fig.tight_layout()\n",
    "    \n",
    "    \n",
    "_ = widgets.interact(interactive_psth, delay1 = (5,50,5), delay2 = (5,50,5), std=(1,20,1), pfire1=(0.1,1,0.1), pfire2=(0.1,1,0.1), stim_freq=[5,10])"
   ]
  },
  {
   "cell_type": "code",
   "execution_count": null,
   "metadata": {},
   "outputs": [],
   "source": []
  }
 ],
 "metadata": {
  "kernelspec": {
   "display_name": "Python 3",
   "language": "python",
   "name": "python3"
  },
  "language_info": {
   "codemirror_mode": {
    "name": "ipython",
    "version": 3
   },
   "file_extension": ".py",
   "mimetype": "text/x-python",
   "name": "python",
   "nbconvert_exporter": "python",
   "pygments_lexer": "ipython3",
   "version": "3.8.3"
  }
 },
 "nbformat": 4,
 "nbformat_minor": 4
}
