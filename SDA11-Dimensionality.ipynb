{
 "cells": [
  {
   "cell_type": "markdown",
   "metadata": {},
   "source": [
    "# SDA - lecture 11 - Dimensionality reduction"
   ]
  },
  {
   "cell_type": "code",
   "execution_count": null,
   "metadata": {},
   "outputs": [],
   "source": [
    "import logging\n",
    "logging.basicConfig(level=logging.INFO, format='%(levelname)s: %(asctime)s: %(message)s')\n",
    "\n",
    "import os\n",
    "import numpy as np\n",
    "import matplotlib.pyplot as plt\n",
    "\n",
    "from sklearn.decomposition import PCA\n",
    "\n",
    "%matplotlib widget\n",
    "# %matplotlib inline"
   ]
  },
  {
   "cell_type": "markdown",
   "metadata": {},
   "source": [
    "## PCA - Simple 2D --> 1D example\n",
    "\n",
    "For a documentation of Python implementation of PCA, see:  \n",
    "https://scikit-learn.org/stable/modules/generated/sklearn.decomposition.PCA.html"
   ]
  },
  {
   "cell_type": "code",
   "execution_count": null,
   "metadata": {},
   "outputs": [],
   "source": [
    "# Generate the 2D dataset\n",
    "K = 1000\n",
    "x1 = np.random.normal(loc=3, scale=4, size=K)\n",
    "x2 = 0.5 * x1 - np.random.normal(loc=1, scale=2, size=K)\n",
    "X = np.concatenate((x1.reshape(-1,1),x2.reshape(-1,1)),axis=1)\n",
    "\n",
    "def drawScatter(X, axis):\n",
    "    axis.plot(X[:,0],X[:,1],'.')\n",
    "    axis.set_xlabel('x1')\n",
    "    axis.set_ylabel('x2')\n",
    "    ext = max((abs(X.min()), abs(X.max())))+1\n",
    "    axis.set(xlim=(-ext, ext), ylim=(-ext, ext))\n",
    "    \n",
    "fig, ax = plt.subplots(figsize=(5,5), nrows=1, ncols=1)\n",
    "drawScatter(X, ax)\n",
    "#plt.savefig(os.path.join('figs','SDA11-OriginalData.png'))"
   ]
  },
  {
   "cell_type": "code",
   "execution_count": null,
   "metadata": {},
   "outputs": [],
   "source": [
    "pca = PCA()\n",
    "pca.fit(X)\n",
    "logging.info(f'Singular value 1: {pca.singular_values_[0]:.2f}\\t' + \n",
    "             f'Singular value 2: {pca.singular_values_[1]:.2f}')\n",
    "logging.info(f'Fraction of variance 1: {pca.explained_variance_ratio_[0]:.2f}\\t' + \n",
    "             f'Fraction of variance 2: {pca.explained_variance_ratio_[1]:.2f}')\n",
    "# Note: explained variance ratio == singular values squared divided by the sum of singular values squared\n",
    "\n",
    "fig, ax = plt.subplots(figsize=(10,4), nrows=1, ncols=2)\n",
    "drawScatter(X, ax[0])\n",
    "for i in [0,1]:\n",
    "    ax[0].plot([pca.mean_[0]-np.sqrt(pca.explained_variance_[i])*pca.components_[i,0], \n",
    "                  pca.mean_[0]+np.sqrt(pca.explained_variance_[i])*pca.components_[i,0]], \n",
    "                 [pca.mean_[1]-np.sqrt(pca.explained_variance_[i])*pca.components_[i,1], \n",
    "                  pca.mean_[1]+np.sqrt(pca.explained_variance_[i])*pca.components_[i,1]], 'k')\n",
    "\n",
    "v = pca.explained_variance_ / pca.explained_variance_.sum()\n",
    "cax=ax[1]\n",
    "xv = np.arange(1,v.shape[0]+1)\n",
    "cax.bar(xv,v)\n",
    "cax.set_title('Variancle fraction exaplained by each PC')\n",
    "cax.set_xticks(xv);"
   ]
  },
  {
   "cell_type": "code",
   "execution_count": null,
   "metadata": {},
   "outputs": [],
   "source": [
    "pca = PCA(n_components=1)\n",
    "pca.fit(X)\n",
    "\n",
    "fig, ax = plt.subplots(figsize=(10,4), nrows=1, ncols=2)\n",
    "drawScatter(X, ax[0])\n",
    "ax[0].set_title('Original data')\n",
    "Y = pca.transform(X)\n",
    "X_rec = pca.inverse_transform(Y)\n",
    "drawScatter(X_rec, ax[1])\n",
    "ax[1].set_title('Projection on 1st PC');"
   ]
  },
  {
   "cell_type": "code",
   "execution_count": null,
   "metadata": {},
   "outputs": [],
   "source": []
  }
 ],
 "metadata": {
  "kernelspec": {
   "display_name": "Python 3",
   "language": "python",
   "name": "python3"
  },
  "language_info": {
   "codemirror_mode": {
    "name": "ipython",
    "version": 3
   },
   "file_extension": ".py",
   "mimetype": "text/x-python",
   "name": "python",
   "nbconvert_exporter": "python",
   "pygments_lexer": "ipython3",
   "version": "3.8.2-final"
  }
 },
 "nbformat": 4,
 "nbformat_minor": 4
}
